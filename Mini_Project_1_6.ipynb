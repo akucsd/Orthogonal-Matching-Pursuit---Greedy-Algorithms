{
 "cells": [
  {
   "cell_type": "code",
   "execution_count": 1,
   "metadata": {},
   "outputs": [],
   "source": [
    "import numpy as np\n",
    "import rasterio\n",
    "from scipy.io import loadmat\n",
    "\n",
    "def loading_data(address):\n",
    "    compressed_signal = loadmat(f'{address}/compressedSignal.mat')['compressedSignal']\n",
    "    compression_matrix = loadmat(f'{address}/compressionMatrix.mat')['compressionMatrix']\n",
    "    \n",
    "    compressed_signal = compressed_signal.astype(np.float64)\n",
    "\n",
    "    with rasterio.open(f'{address}/CompressedBasis.tiff') as img:\n",
    "        D_compressed = img.read(1)  # Reading the first band\n",
    "\n",
    "    D_compressed = D_compressed.astype(np.float64)\n",
    "    D = D_compressed / 255.0 * 0.1284 - 0.0525\n",
    "\n",
    "    return compressed_signal, D, compression_matrix\n"
   ]
  },
  {
   "cell_type": "code",
   "execution_count": 2,
   "metadata": {},
   "outputs": [
    {
     "name": "stderr",
     "output_type": "stream",
     "text": [
      "c:\\Users\\msi\\anaconda3\\lib\\site-packages\\rasterio\\__init__.py:331: NotGeoreferencedWarning: Dataset has no geotransform, gcps, or rpcs. The identity matrix will be returned.\n",
      "  dataset = DatasetReader(path, driver=driver, sharing=sharing, **kwargs)\n"
     ]
    },
    {
     "name": "stdout",
     "output_type": "stream",
     "text": [
      "(3000, 1) (15980, 15980) (3000, 15980)\n"
     ]
    }
   ],
   "source": [
    "y,D,A=loading_data(r\"C:\\Users\\msi\\Desktop\\ECE 269\\Mini Project 1\\pr6\\data\")\n",
    "print(y.shape,D.shape, A.shape)"
   ]
  },
  {
   "cell_type": "code",
   "execution_count": 3,
   "metadata": {},
   "outputs": [],
   "source": [
    "import sounddevice as sd\n",
    "\n",
    "def play_audio(y, fps):\n",
    "    sd.play(y, fps)\n",
    "    sd.wait()  # Wait for playback to finish\n",
    "\n",
    "play_audio(y, 7350)\n"
   ]
  },
  {
   "cell_type": "code",
   "execution_count": 8,
   "metadata": {},
   "outputs": [],
   "source": [
    "def OMP(A, y, s, noise, n_norm):\n",
    "    N = A.shape[1]\n",
    "    M = A.shape[0]\n",
    "    k = []                           \n",
    "    a = np.empty((M, 0))  \n",
    "    r = y                            \n",
    "\n",
    "    x_omp = np.zeros((N, 1))\n",
    "    while max(np.abs(A.T @ r)) > 0.1:\n",
    "        j = np.argmax(np.abs(A.T @ r))\n",
    "        k.append(j)\n",
    "\n",
    "        a = np.hstack([a, A[:, j].reshape(M, 1)])\n",
    "\n",
    "        a_temp = np.linalg.inv(a.T @ a)\n",
    "        alpha = a_temp @ a.T @ y\n",
    "        b = a @ alpha\n",
    "        r = y - b\n",
    "\n",
    "        for i in range(len(k)):\n",
    "            x_omp[k[i], 0] = alpha[i]\n",
    "        error = np.linalg.norm(y - A @ x_omp)\n",
    "\n",
    "        if noise:\n",
    "            if error < n_norm or len(k) == s:\n",
    "                break\n",
    "        else:\n",
    "            if error < 1e-3:\n",
    "                break\n",
    "\n",
    "    for i in range(len(k)):\n",
    "        x_omp[k[i], 0] = alpha[i]\n",
    "\n",
    "    return x_omp, len(k)\n"
   ]
  },
  {
   "cell_type": "code",
   "execution_count": 15,
   "metadata": {},
   "outputs": [
    {
     "ename": "UnboundLocalError",
     "evalue": "local variable 'x_omp' referenced before assignment",
     "output_type": "error",
     "traceback": [
      "\u001b[1;31m---------------------------------------------------------------------------\u001b[0m",
      "\u001b[1;31mUnboundLocalError\u001b[0m                         Traceback (most recent call last)",
      "Input \u001b[1;32mIn [15]\u001b[0m, in \u001b[0;36m<cell line: 4>\u001b[1;34m()\u001b[0m\n\u001b[0;32m      2\u001b[0m A1\u001b[38;5;241m=\u001b[39mA_master[:\u001b[38;5;241m10\u001b[39m,:]\n\u001b[0;32m      3\u001b[0m Y1\u001b[38;5;241m=\u001b[39my[:\u001b[38;5;241m10\u001b[39m]\n\u001b[1;32m----> 4\u001b[0m S1_OMP, S1_OMP_INDEX \u001b[38;5;241m=\u001b[39m \u001b[43mOMP\u001b[49m\u001b[43m(\u001b[49m\u001b[43mA1\u001b[49m\u001b[43m,\u001b[49m\u001b[43m \u001b[49m\u001b[43mY1\u001b[49m\u001b[43m,\u001b[49m\u001b[43m \u001b[49m\u001b[38;5;241;43m0\u001b[39;49m\u001b[43m,\u001b[49m\u001b[43m \u001b[49m\u001b[38;5;28;43;01mTrue\u001b[39;49;00m\u001b[43m,\u001b[49m\u001b[43m \u001b[49m\u001b[38;5;241;43m0\u001b[39;49m\u001b[43m)\u001b[49m\n\u001b[0;32m      5\u001b[0m \u001b[38;5;28mprint\u001b[39m(\u001b[38;5;124m\"\u001b[39m\u001b[38;5;124mIteration for S1 stopped at\u001b[39m\u001b[38;5;124m\"\u001b[39m, S1_OMP_INDEX)\n\u001b[0;32m      6\u001b[0m \u001b[38;5;28mprint\u001b[39m(S1_OMP\u001b[38;5;241m.\u001b[39mshape)\n",
      "Input \u001b[1;32mIn [8]\u001b[0m, in \u001b[0;36mOMP\u001b[1;34m(A, y, s, noise, n_norm)\u001b[0m\n\u001b[0;32m     31\u001b[0m \u001b[38;5;28;01mfor\u001b[39;00m i \u001b[38;5;129;01min\u001b[39;00m \u001b[38;5;28mrange\u001b[39m(\u001b[38;5;28mlen\u001b[39m(k)):\n\u001b[0;32m     32\u001b[0m     x_omp[k[i], \u001b[38;5;241m0\u001b[39m] \u001b[38;5;241m=\u001b[39m alpha[i]\n\u001b[1;32m---> 34\u001b[0m \u001b[38;5;28;01mreturn\u001b[39;00m \u001b[43mx_omp\u001b[49m, \u001b[38;5;28mlen\u001b[39m(k)\n",
      "\u001b[1;31mUnboundLocalError\u001b[0m: local variable 'x_omp' referenced before assignment"
     ]
    }
   ],
   "source": [
    "A_master=np.dot(A,D)\n",
    "A1=A_master[:10,:]\n",
    "Y1=y[:10]\n",
    "S1_OMP, S1_OMP_INDEX = OMP(A1, Y1, 0, True, 0)\n",
    "print(\"Iteration for S1 stopped at\", S1_OMP_INDEX)\n",
    "print(S1_OMP.shape)"
   ]
  },
  {
   "cell_type": "code",
   "execution_count": 10,
   "metadata": {},
   "outputs": [
    {
     "ename": "NameError",
     "evalue": "name 'S1_OMP' is not defined",
     "output_type": "error",
     "traceback": [
      "\u001b[1;31m---------------------------------------------------------------------------\u001b[0m",
      "\u001b[1;31mNameError\u001b[0m                                 Traceback (most recent call last)",
      "Input \u001b[1;32mIn [10]\u001b[0m, in \u001b[0;36m<cell line: 1>\u001b[1;34m()\u001b[0m\n\u001b[1;32m----> 1\u001b[0m sound_1_omp\u001b[38;5;241m=\u001b[39mnp\u001b[38;5;241m.\u001b[39mdot(D,\u001b[43mS1_OMP\u001b[49m)\n\u001b[0;32m      2\u001b[0m play_audio(sound_1_omp,\u001b[38;5;241m7350\u001b[39m)\n",
      "\u001b[1;31mNameError\u001b[0m: name 'S1_OMP' is not defined"
     ]
    }
   ],
   "source": [
    "sound_1_omp=np.dot(D,S1_OMP)\n",
    "play_audio(sound_1_omp,7350)"
   ]
  },
  {
   "cell_type": "code",
   "execution_count": 11,
   "metadata": {},
   "outputs": [],
   "source": [
    "from scipy.sparse.linalg import lsqr\n",
    "S1_LSQR = lsqr(A1, Y1)[0]\n",
    "sound_1_lsqr=np.dot(D,S1_LSQR)\n",
    "play_audio(sound_1_lsqr,7350)"
   ]
  },
  {
   "cell_type": "code",
   "execution_count": 13,
   "metadata": {},
   "outputs": [
    {
     "name": "stdout",
     "output_type": "stream",
     "text": [
      "Iteration for S2 stopped at 1\n",
      "(15980, 1)\n"
     ]
    }
   ],
   "source": [
    "A2=A_master[:50,:]\n",
    "Y2=y[:50]\n",
    "S2_OMP, S2_OMP_INDEX = OMP(A2, Y2, 0, True, 0)\n",
    "print(\"Iteration for S2 stopped at\", S2_OMP_INDEX)\n",
    "print(S2_OMP.shape)"
   ]
  },
  {
   "cell_type": "code",
   "execution_count": 14,
   "metadata": {},
   "outputs": [],
   "source": [
    "sound_2_omp=np.dot(D,S2_OMP)\n",
    "play_audio(sound_2_omp,7350)"
   ]
  },
  {
   "cell_type": "code",
   "execution_count": null,
   "metadata": {},
   "outputs": [],
   "source": [
    "S2_LSQR = lsqr(A2, Y2)[0]\n",
    "sound_2_lsqr=np.dot(D,S2_LSQR)\n",
    "play_audio(sound_2_lsqr,7350)"
   ]
  },
  {
   "cell_type": "code",
   "execution_count": null,
   "metadata": {},
   "outputs": [
    {
     "name": "stdout",
     "output_type": "stream",
     "text": [
      "Iteration for S3 stopped at 1\n",
      "(15980, 1)\n"
     ]
    }
   ],
   "source": [
    "A3=A_master[:100,:]\n",
    "Y3=y[:100]\n",
    "S3_OMP, S3_OMP_INDEX = OMP(A3, Y3, 0, True, 0)\n",
    "print(\"Iteration for S3 stopped at\", S3_OMP_INDEX)\n",
    "print(S3_OMP.shape)"
   ]
  },
  {
   "cell_type": "code",
   "execution_count": null,
   "metadata": {},
   "outputs": [],
   "source": [
    "sound_3_omp=np.dot(D,S3_OMP)\n",
    "play_audio(sound_3_omp,7350)"
   ]
  },
  {
   "cell_type": "code",
   "execution_count": null,
   "metadata": {},
   "outputs": [],
   "source": [
    "S3_LSQR = lsqr(A3, Y3)[0]\n",
    "sound_3_lsqr=np.dot(D,S3_LSQR)\n",
    "play_audio(sound_3_lsqr,7350)"
   ]
  },
  {
   "cell_type": "code",
   "execution_count": null,
   "metadata": {},
   "outputs": [
    {
     "name": "stdout",
     "output_type": "stream",
     "text": [
      "Iteration for S4 stopped at 1\n",
      "(15980, 1)\n"
     ]
    }
   ],
   "source": [
    "A4=A_master[:200,:]\n",
    "Y4=y[:200]\n",
    "S4_OMP, S4_OMP_INDEX = OMP(A4, Y4, 0, True, 0)\n",
    "print(\"Iteration for S4 stopped at\", S4_OMP_INDEX)\n",
    "print(S4_OMP.shape)"
   ]
  },
  {
   "cell_type": "code",
   "execution_count": null,
   "metadata": {},
   "outputs": [],
   "source": [
    "sound_4_omp=np.dot(D,S4_OMP)\n",
    "play_audio(sound_4_omp,7350)"
   ]
  },
  {
   "cell_type": "code",
   "execution_count": null,
   "metadata": {},
   "outputs": [],
   "source": [
    "S4_LSQR = lsqr(A4, Y4)[0]\n",
    "sound_4_lsqr=np.dot(D,S4_LSQR)\n",
    "play_audio(sound_4_lsqr,7350)"
   ]
  },
  {
   "cell_type": "code",
   "execution_count": null,
   "metadata": {},
   "outputs": [
    {
     "name": "stdout",
     "output_type": "stream",
     "text": [
      "Iteration for S5 stopped at 1\n",
      "(15980, 1)\n"
     ]
    }
   ],
   "source": [
    "A5=A_master[:300,:]\n",
    "Y5=y[:300]\n",
    "S5_OMP, S5_OMP_INDEX = OMP(A5, Y5, 0, True, 0)\n",
    "print(\"Iteration for S5 stopped at\", S5_OMP_INDEX)\n",
    "print(S5_OMP.shape)"
   ]
  },
  {
   "cell_type": "code",
   "execution_count": null,
   "metadata": {},
   "outputs": [],
   "source": [
    "sound_5_omp=np.dot(D,S5_OMP)\n",
    "play_audio(sound_5_omp,7350)"
   ]
  },
  {
   "cell_type": "code",
   "execution_count": null,
   "metadata": {},
   "outputs": [],
   "source": [
    "S5_LSQR = lsqr(A5, Y5)[0]\n",
    "sound_5_lsqr=np.dot(D,S5_LSQR)\n",
    "play_audio(sound_5_lsqr,7350)"
   ]
  },
  {
   "cell_type": "code",
   "execution_count": null,
   "metadata": {},
   "outputs": [
    {
     "name": "stdout",
     "output_type": "stream",
     "text": [
      "Iteration for S6 stopped at 27\n",
      "(15980, 1)\n"
     ]
    }
   ],
   "source": [
    "A6=A_master[:1000,:]\n",
    "Y6=y[:1000]\n",
    "S6_OMP, S6_OMP_INDEX = OMP(A6, Y6, 0, True, 0)\n",
    "print(\"Iteration for S6 stopped at\", S6_OMP_INDEX)\n",
    "print(S6_OMP.shape)"
   ]
  },
  {
   "cell_type": "code",
   "execution_count": null,
   "metadata": {},
   "outputs": [],
   "source": [
    "sound_6_omp=np.dot(D,S6_OMP)\n",
    "play_audio(sound_6_omp,7350)"
   ]
  },
  {
   "cell_type": "code",
   "execution_count": null,
   "metadata": {},
   "outputs": [],
   "source": [
    "S6_LSQR = lsqr(A6, Y6)[0]\n",
    "sound_6_lsqr=np.dot(D,S6_LSQR)\n",
    "play_audio(sound_6_lsqr,7350)"
   ]
  },
  {
   "cell_type": "code",
   "execution_count": null,
   "metadata": {},
   "outputs": [
    {
     "name": "stdout",
     "output_type": "stream",
     "text": [
      "Iteration for S7 stopped at 100\n",
      "(15980, 1)\n"
     ]
    }
   ],
   "source": [
    "A7=A_master[:2000,:]\n",
    "Y7=y[:2000]\n",
    "S7_OMP, S7_OMP_INDEX = OMP(A7, Y7, 0, True, 0)\n",
    "print(\"Iteration for S7 stopped at\", S7_OMP_INDEX)\n",
    "print(S7_OMP.shape)"
   ]
  },
  {
   "cell_type": "code",
   "execution_count": null,
   "metadata": {},
   "outputs": [],
   "source": [
    "sound_7_omp=np.dot(D,S7_OMP)\n",
    "play_audio(sound_7_omp,7350)"
   ]
  },
  {
   "cell_type": "code",
   "execution_count": null,
   "metadata": {},
   "outputs": [],
   "source": [
    "S7_LSQR = lsqr(A7, Y7)[0]\n",
    "sound_7_lsqr=np.dot(D,S7_LSQR)\n",
    "play_audio(sound_7_lsqr,7350)"
   ]
  },
  {
   "cell_type": "code",
   "execution_count": null,
   "metadata": {},
   "outputs": [
    {
     "name": "stdout",
     "output_type": "stream",
     "text": [
      "Iteration for S8 stopped at 100\n",
      "(15980, 1)\n"
     ]
    }
   ],
   "source": [
    "A8=A_master[:3000,:]\n",
    "Y8=y[:3000]\n",
    "S8_OMP, S8_OMP_INDEX = OMP(A8, Y8, 0, True, 0)\n",
    "print(\"Iteration for S8 stopped at\", S8_OMP_INDEX)\n",
    "print(S8_OMP.shape)"
   ]
  },
  {
   "cell_type": "code",
   "execution_count": null,
   "metadata": {},
   "outputs": [],
   "source": [
    "sound_8_omp=np.dot(D,S8_OMP)\n",
    "play_audio(sound_8_omp,7350)"
   ]
  },
  {
   "cell_type": "code",
   "execution_count": null,
   "metadata": {},
   "outputs": [],
   "source": [
    "S8_LSQR = lsqr(A8, Y8)[0]\n",
    "sound_8_lsqr=np.dot(D,S8_LSQR)\n",
    "play_audio(sound_8_lsqr,7350)"
   ]
  }
 ],
 "metadata": {
  "kernelspec": {
   "display_name": "base",
   "language": "python",
   "name": "python3"
  },
  "language_info": {
   "codemirror_mode": {
    "name": "ipython",
    "version": 3
   },
   "file_extension": ".py",
   "mimetype": "text/x-python",
   "name": "python",
   "nbconvert_exporter": "python",
   "pygments_lexer": "ipython3",
   "version": "3.9.12"
  }
 },
 "nbformat": 4,
 "nbformat_minor": 2
}
